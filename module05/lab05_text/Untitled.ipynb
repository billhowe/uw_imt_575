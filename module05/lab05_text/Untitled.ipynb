{
 "cells": [
  {
   "cell_type": "code",
   "execution_count": 1,
   "id": "eb97d993",
   "metadata": {},
   "outputs": [
    {
     "name": "stdout",
     "output_type": "stream",
     "text": [
      "Collecting google-api-python-client\n",
      "  Downloading google_api_python_client-2.45.0-py2.py3-none-any.whl (8.4 MB)\n",
      "\u001b[K     |████████████████████████████████| 8.4 MB 3.9 MB/s eta 0:00:01\n",
      "\u001b[?25hCollecting google-auth-httplib2\n",
      "  Downloading google_auth_httplib2-0.1.0-py2.py3-none-any.whl (9.3 kB)\n",
      "Requirement already satisfied: google-auth-oauthlib in /Users/billhowe/miniconda3/lib/python3.9/site-packages (0.4.6)\n",
      "Collecting google-auth-oauthlib\n",
      "  Downloading google_auth_oauthlib-0.5.1-py2.py3-none-any.whl (19 kB)\n",
      "Requirement already satisfied: google-auth<3.0.0dev,>=1.16.0 in /Users/billhowe/miniconda3/lib/python3.9/site-packages (from google-api-python-client) (2.6.0)\n",
      "Requirement already satisfied: httplib2<1dev,>=0.15.0 in /Users/billhowe/miniconda3/lib/python3.9/site-packages (from google-api-python-client) (0.20.4)\n",
      "Collecting google-api-core!=2.0.*,!=2.1.*,!=2.2.*,!=2.3.0,<3.0.0dev,>=1.31.5\n",
      "  Downloading google_api_core-2.7.2-py3-none-any.whl (114 kB)\n",
      "\u001b[K     |████████████████████████████████| 114 kB 8.9 MB/s eta 0:00:01\n",
      "\u001b[?25hCollecting uritemplate<5,>=3.0.1\n",
      "  Downloading uritemplate-4.1.1-py2.py3-none-any.whl (10 kB)\n",
      "Requirement already satisfied: six in /Users/billhowe/miniconda3/lib/python3.9/site-packages (from google-auth-httplib2) (1.16.0)\n",
      "Requirement already satisfied: requests-oauthlib>=0.7.0 in /Users/billhowe/miniconda3/lib/python3.9/site-packages (from google-auth-oauthlib) (1.3.1)\n",
      "Collecting googleapis-common-protos<2.0dev,>=1.52.0\n",
      "  Downloading googleapis_common_protos-1.56.0-py2.py3-none-any.whl (241 kB)\n",
      "\u001b[K     |████████████████████████████████| 241 kB 5.6 MB/s eta 0:00:01\n",
      "\u001b[?25hRequirement already satisfied: requests<3.0.0dev,>=2.18.0 in /Users/billhowe/miniconda3/lib/python3.9/site-packages (from google-api-core!=2.0.*,!=2.1.*,!=2.2.*,!=2.3.0,<3.0.0dev,>=1.31.5->google-api-python-client) (2.27.1)\n",
      "Requirement already satisfied: protobuf>=3.12.0 in /Users/billhowe/miniconda3/lib/python3.9/site-packages (from google-api-core!=2.0.*,!=2.1.*,!=2.2.*,!=2.3.0,<3.0.0dev,>=1.31.5->google-api-python-client) (3.19.4)\n",
      "Requirement already satisfied: pyasn1-modules>=0.2.1 in /Users/billhowe/miniconda3/lib/python3.9/site-packages (from google-auth<3.0.0dev,>=1.16.0->google-api-python-client) (0.2.8)\n",
      "Requirement already satisfied: rsa<5,>=3.1.4 in /Users/billhowe/miniconda3/lib/python3.9/site-packages (from google-auth<3.0.0dev,>=1.16.0->google-api-python-client) (4.8)\n",
      "Requirement already satisfied: cachetools<6.0,>=2.0.0 in /Users/billhowe/miniconda3/lib/python3.9/site-packages (from google-auth<3.0.0dev,>=1.16.0->google-api-python-client) (5.0.0)\n",
      "Requirement already satisfied: pyparsing!=3.0.0,!=3.0.1,!=3.0.2,!=3.0.3,<4,>=2.4.2 in /Users/billhowe/miniconda3/lib/python3.9/site-packages (from httplib2<1dev,>=0.15.0->google-api-python-client) (3.0.4)\n",
      "Requirement already satisfied: pyasn1<0.5.0,>=0.4.6 in /Users/billhowe/miniconda3/lib/python3.9/site-packages (from pyasn1-modules>=0.2.1->google-auth<3.0.0dev,>=1.16.0->google-api-python-client) (0.4.8)\n",
      "Requirement already satisfied: charset-normalizer~=2.0.0 in /Users/billhowe/miniconda3/lib/python3.9/site-packages (from requests<3.0.0dev,>=2.18.0->google-api-core!=2.0.*,!=2.1.*,!=2.2.*,!=2.3.0,<3.0.0dev,>=1.31.5->google-api-python-client) (2.0.4)\n",
      "Requirement already satisfied: idna<4,>=2.5 in /Users/billhowe/miniconda3/lib/python3.9/site-packages (from requests<3.0.0dev,>=2.18.0->google-api-core!=2.0.*,!=2.1.*,!=2.2.*,!=2.3.0,<3.0.0dev,>=1.31.5->google-api-python-client) (3.3)\n",
      "Requirement already satisfied: certifi>=2017.4.17 in /Users/billhowe/miniconda3/lib/python3.9/site-packages (from requests<3.0.0dev,>=2.18.0->google-api-core!=2.0.*,!=2.1.*,!=2.2.*,!=2.3.0,<3.0.0dev,>=1.31.5->google-api-python-client) (2021.10.8)\n",
      "Requirement already satisfied: urllib3<1.27,>=1.21.1 in /Users/billhowe/miniconda3/lib/python3.9/site-packages (from requests<3.0.0dev,>=2.18.0->google-api-core!=2.0.*,!=2.1.*,!=2.2.*,!=2.3.0,<3.0.0dev,>=1.31.5->google-api-python-client) (1.26.8)\n",
      "Requirement already satisfied: oauthlib>=3.0.0 in /Users/billhowe/miniconda3/lib/python3.9/site-packages (from requests-oauthlib>=0.7.0->google-auth-oauthlib) (3.2.0)\n",
      "Installing collected packages: googleapis-common-protos, uritemplate, google-auth-httplib2, google-api-core, google-auth-oauthlib, google-api-python-client\n",
      "  Attempting uninstall: google-auth-oauthlib\n",
      "    Found existing installation: google-auth-oauthlib 0.4.6\n",
      "    Uninstalling google-auth-oauthlib-0.4.6:\n",
      "      Successfully uninstalled google-auth-oauthlib-0.4.6\n",
      "\u001b[31mERROR: pip's dependency resolver does not currently take into account all the packages that are installed. This behaviour is the source of the following dependency conflicts.\n",
      "tensorboard 2.8.0 requires google-auth-oauthlib<0.5,>=0.4.1, but you have google-auth-oauthlib 0.5.1 which is incompatible.\u001b[0m\n",
      "Successfully installed google-api-core-2.7.2 google-api-python-client-2.45.0 google-auth-httplib2-0.1.0 google-auth-oauthlib-0.5.1 googleapis-common-protos-1.56.0 uritemplate-4.1.1\n",
      "Note: you may need to restart the kernel to use updated packages.\n"
     ]
    }
   ],
   "source": [
    "pip install --upgrade google-api-python-client google-auth-httplib2 google-auth-oauthlib"
   ]
  },
  {
   "cell_type": "code",
   "execution_count": 1,
   "id": "a34d35bb",
   "metadata": {},
   "outputs": [
    {
     "ename": "ModuleNotFoundError",
     "evalue": "No module named 'GmailApp'",
     "output_type": "error",
     "traceback": [
      "\u001b[0;31m---------------------------------------------------------------------------\u001b[0m",
      "\u001b[0;31mModuleNotFoundError\u001b[0m                       Traceback (most recent call last)",
      "\u001b[0;32m/var/folders/vb/6zw32vn11hd4gc2p880_51jw0000gp/T/ipykernel_63225/2381043558.py\u001b[0m in \u001b[0;36m<module>\u001b[0;34m\u001b[0m\n\u001b[0;32m----> 1\u001b[0;31m \u001b[0;32mimport\u001b[0m \u001b[0mGmailApp\u001b[0m\u001b[0;34m\u001b[0m\u001b[0;34m\u001b[0m\u001b[0m\n\u001b[0m",
      "\u001b[0;31mModuleNotFoundError\u001b[0m: No module named 'GmailApp'"
     ]
    }
   ],
   "source": [
    "import GmailApp"
   ]
  },
  {
   "cell_type": "code",
   "execution_count": null,
   "id": "b9eb003c",
   "metadata": {},
   "outputs": [],
   "source": [
    "function sender_list() {\n",
    "  var inbox_threads=GmailApp.search('in:anywhere');\n",
    "  var sender_array=[];\n",
    "  var uA=[];\n",
    "  var cObj={};\n",
    "  for(var i=0;i<inbox_threads.length;i++) {\n",
    "    var message=inbox_threads[i].getMessages();\n",
    "    for(var x=0;x<message.length; x++) {\n",
    "      var sender=message[x].getFrom();  \n",
    "      if(uA.indexOf(sender)==-1) {\n",
    "        uA.push(sender);\n",
    "        sender_array.push([sender]);\n",
    "        cObj[sender]=1;\n",
    "      }else{\n",
    "        cObj[sender]+=1;\n",
    "      }\n",
    "    }\n",
    "  }\n",
    "  sender_array.forEach(function(r){\n",
    "    r.splice(1,0,cObj[r[0]]);\n",
    "  });\n",
    "  var ss=SpreadsheetApp.getActive();\n",
    "  var sh=ss.getActiveSheet()\n",
    "  sh.clear();\n",
    "  sh.appendRow(['Email Address','Count']);\n",
    "  sh.getRange(2, 1,sender_array.length,2).setValues(sender_array).sort({column:1,ascending:true});\n",
    "\n",
    "}"
   ]
  }
 ],
 "metadata": {
  "kernelspec": {
   "display_name": "Python 3",
   "language": "python",
   "name": "python3"
  },
  "language_info": {
   "codemirror_mode": {
    "name": "ipython",
    "version": 3
   },
   "file_extension": ".py",
   "mimetype": "text/x-python",
   "name": "python",
   "nbconvert_exporter": "python",
   "pygments_lexer": "ipython3",
   "version": "3.9.5"
  }
 },
 "nbformat": 4,
 "nbformat_minor": 5
}
